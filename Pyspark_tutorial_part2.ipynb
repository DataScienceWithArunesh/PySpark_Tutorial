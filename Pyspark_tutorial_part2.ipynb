{
  "nbformat": 4,
  "nbformat_minor": 0,
  "metadata": {
    "colab": {
      "provenance": [],
      "mount_file_id": "1jInBiA5E608L2bYgOYUpljavdtVaBYPu",
      "authorship_tag": "ABX9TyO47rlcIvqXW6IMPM8xV3iV",
      "include_colab_link": true
    },
    "kernelspec": {
      "name": "python3",
      "display_name": "Python 3"
    },
    "language_info": {
      "name": "python"
    }
  },
  "cells": [
    {
      "cell_type": "markdown",
      "metadata": {
        "id": "view-in-github",
        "colab_type": "text"
      },
      "source": [
        "<a href=\"https://colab.research.google.com/github/DataScienceWithArunesh/PySpark_Tutorial/blob/main/Pyspark_tutorial_part2.ipynb\" target=\"_parent\"><img src=\"https://colab.research.google.com/assets/colab-badge.svg\" alt=\"Open In Colab\"/></a>"
      ]
    },
    {
      "cell_type": "markdown",
      "source": [
        "#Pyspark Dataframe Basics\n",
        "1. importing pyspark\n",
        "2. start spark session\n",
        "3. connect to drive\n",
        "4. read the dataset\n",
        "5. Check the datatype of the dataframe\n",
        "6. check the summary"
      ],
      "metadata": {
        "id": "YE7iRSKOt2PS"
      }
    },
    {
      "cell_type": "code",
      "source": [
        "# importing\n",
        "!pip install pyspark"
      ],
      "metadata": {
        "colab": {
          "base_uri": "https://localhost:8080/"
        },
        "id": "qIGMyvEHuDhz",
        "outputId": "59afb89a-3319-4ff5-fcce-0111ab4cb511"
      },
      "execution_count": null,
      "outputs": [
        {
          "output_type": "stream",
          "name": "stdout",
          "text": [
            "Looking in indexes: https://pypi.org/simple, https://us-python.pkg.dev/colab-wheels/public/simple/\n",
            "Collecting pyspark\n",
            "  Downloading pyspark-3.4.0.tar.gz (310.8 MB)\n",
            "\u001b[2K     \u001b[90m━━━━━━━━━━━━━━━━━━━━━━━━━━━━━━━━━━━━━━━\u001b[0m \u001b[32m310.8/310.8 MB\u001b[0m \u001b[31m4.3 MB/s\u001b[0m eta \u001b[36m0:00:00\u001b[0m\n",
            "\u001b[?25h  Preparing metadata (setup.py) ... \u001b[?25l\u001b[?25hdone\n",
            "Requirement already satisfied: py4j==0.10.9.7 in /usr/local/lib/python3.10/dist-packages (from pyspark) (0.10.9.7)\n",
            "Building wheels for collected packages: pyspark\n",
            "  Building wheel for pyspark (setup.py) ... \u001b[?25l\u001b[?25hdone\n",
            "  Created wheel for pyspark: filename=pyspark-3.4.0-py2.py3-none-any.whl size=311317130 sha256=bd649c9e212233ca4a913eb1367d70443a2e81342d5c06da97d0d3b2bd9fc0fc\n",
            "  Stored in directory: /root/.cache/pip/wheels/7b/1b/4b/3363a1d04368e7ff0d408e57ff57966fcdf00583774e761327\n",
            "Successfully built pyspark\n",
            "Installing collected packages: pyspark\n",
            "Successfully installed pyspark-3.4.0\n"
          ]
        }
      ]
    },
    {
      "cell_type": "code",
      "source": [
        "import pyspark"
      ],
      "metadata": {
        "id": "O1HqjqbauIbs"
      },
      "execution_count": null,
      "outputs": []
    },
    {
      "cell_type": "code",
      "source": [
        "# start spark session\n",
        "from pyspark.sql import SparkSession\n",
        "spark = SparkSession.builder.appName(\"pyspark_tutorial_part2\").getOrCreate()"
      ],
      "metadata": {
        "id": "hjhVfKHxuV9x"
      },
      "execution_count": null,
      "outputs": []
    },
    {
      "cell_type": "code",
      "source": [
        "# read the dataset\n",
        "df = spark.read.csv(\"/content/drive/MyDrive/student_details_pyspark.csv\")"
      ],
      "metadata": {
        "id": "gpN-eOhEunVy"
      },
      "execution_count": null,
      "outputs": []
    },
    {
      "cell_type": "code",
      "source": [
        "df.show()"
      ],
      "metadata": {
        "colab": {
          "base_uri": "https://localhost:8080/"
        },
        "id": "2arSr5yXvWw2",
        "outputId": "80d46167-1a47-47f4-b599-cf7c7607076d"
      },
      "execution_count": null,
      "outputs": [
        {
          "output_type": "stream",
          "name": "stdout",
          "text": [
            "+------------+---+-----+\n",
            "|         _c0|_c1|  _c2|\n",
            "+------------+---+-----+\n",
            "|Student_name|Age|Grade|\n",
            "|     Avinash| 22|   80|\n",
            "|     Chandan| 18|   90|\n",
            "|       Richa| 20|   85|\n",
            "+------------+---+-----+\n",
            "\n"
          ]
        }
      ]
    },
    {
      "cell_type": "code",
      "source": [
        "df = spark.read.option(\"header\", True).csv(\"/content/drive/MyDrive/student_details_pyspark.csv\")"
      ],
      "metadata": {
        "id": "Ji0SyM78vxwr"
      },
      "execution_count": null,
      "outputs": []
    },
    {
      "cell_type": "code",
      "source": [
        "df.show()"
      ],
      "metadata": {
        "colab": {
          "base_uri": "https://localhost:8080/"
        },
        "id": "esEYQHwIwBt8",
        "outputId": "d7c67543-7ba1-44af-e118-e66c6996c7dc"
      },
      "execution_count": null,
      "outputs": [
        {
          "output_type": "stream",
          "name": "stdout",
          "text": [
            "+------------+---+-----+\n",
            "|Student_name|Age|Grade|\n",
            "+------------+---+-----+\n",
            "|     Avinash| 22|   80|\n",
            "|     Chandan| 18|   90|\n",
            "|       Richa| 20|   85|\n",
            "+------------+---+-----+\n",
            "\n"
          ]
        }
      ]
    },
    {
      "cell_type": "code",
      "source": [
        "# check the dtaatype\n",
        "df.printSchema()"
      ],
      "metadata": {
        "colab": {
          "base_uri": "https://localhost:8080/"
        },
        "id": "FkhM3PO9wDAe",
        "outputId": "bf70ceb5-6319-40e3-8353-2c6c2a82ea21"
      },
      "execution_count": null,
      "outputs": [
        {
          "output_type": "stream",
          "name": "stdout",
          "text": [
            "root\n",
            " |-- Student_name: string (nullable = true)\n",
            " |-- Age: string (nullable = true)\n",
            " |-- Grade: string (nullable = true)\n",
            "\n"
          ]
        }
      ]
    },
    {
      "cell_type": "code",
      "source": [
        "df = spark.read.option(\"header\", True).option(\"inferschema\", True).csv(\"/content/drive/MyDrive/student_details_pyspark.csv\")"
      ],
      "metadata": {
        "id": "Y-xyeVrhwNvu"
      },
      "execution_count": null,
      "outputs": []
    },
    {
      "cell_type": "code",
      "source": [
        "df.printSchema()"
      ],
      "metadata": {
        "colab": {
          "base_uri": "https://localhost:8080/"
        },
        "id": "wwc1zlcewiNl",
        "outputId": "48cf0b88-727f-4385-c5ad-1503a5380ff7"
      },
      "execution_count": null,
      "outputs": [
        {
          "output_type": "stream",
          "name": "stdout",
          "text": [
            "root\n",
            " |-- Student_name: string (nullable = true)\n",
            " |-- Age: integer (nullable = true)\n",
            " |-- Grade: integer (nullable = true)\n",
            "\n"
          ]
        }
      ]
    },
    {
      "cell_type": "code",
      "source": [
        "# check the sumary\n",
        "df.describe().show()"
      ],
      "metadata": {
        "colab": {
          "base_uri": "https://localhost:8080/"
        },
        "id": "-cQJuHQNwkxW",
        "outputId": "fb4b0e66-9498-48cb-9c95-6ded6152ca69"
      },
      "execution_count": null,
      "outputs": [
        {
          "output_type": "stream",
          "name": "stdout",
          "text": [
            "+-------+------------+----+-----+\n",
            "|summary|Student_name| Age|Grade|\n",
            "+-------+------------+----+-----+\n",
            "|  count|           3|   3|    3|\n",
            "|   mean|        null|20.0| 85.0|\n",
            "| stddev|        null| 2.0|  5.0|\n",
            "|    min|     Avinash|  18|   80|\n",
            "|    max|       Richa|  22|   90|\n",
            "+-------+------------+----+-----+\n",
            "\n"
          ]
        }
      ]
    },
    {
      "cell_type": "code",
      "source": [
        "df.summary().show()"
      ],
      "metadata": {
        "colab": {
          "base_uri": "https://localhost:8080/"
        },
        "id": "ItULdeblwqsS",
        "outputId": "4c684492-c7cd-4115-ce9c-6d8ed4fce1b4"
      },
      "execution_count": null,
      "outputs": [
        {
          "output_type": "stream",
          "name": "stdout",
          "text": [
            "+-------+------------+----+-----+\n",
            "|summary|Student_name| Age|Grade|\n",
            "+-------+------------+----+-----+\n",
            "|  count|           3|   3|    3|\n",
            "|   mean|        null|20.0| 85.0|\n",
            "| stddev|        null| 2.0|  5.0|\n",
            "|    min|     Avinash|  18|   80|\n",
            "|    25%|        null|  18|   80|\n",
            "|    50%|        null|  20|   85|\n",
            "|    75%|        null|  22|   90|\n",
            "|    max|       Richa|  22|   90|\n",
            "+-------+------------+----+-----+\n",
            "\n"
          ]
        }
      ]
    },
    {
      "cell_type": "code",
      "source": [],
      "metadata": {
        "id": "6ROYSCtKwzou"
      },
      "execution_count": null,
      "outputs": []
    }
  ]
}